{
  "nbformat": 4,
  "nbformat_minor": 0,
  "metadata": {
    "colab": {
      "name": "ridge_1.ipynb",
      "version": "0.3.2",
      "provenance": []
    },
    "kernelspec": {
      "display_name": "Python 3",
      "language": "python",
      "name": "python3"
    }
  },
  "cells": [
    {
      "metadata": {
        "id": "pZuCDAPSgXh0",
        "colab_type": "code",
        "colab": {},
        "outputId": "9089b283-e34b-4ff2-bb5a-259b3882d1ac"
      },
      "cell_type": "code",
      "source": [
        "import os\n",
        "import numpy as np\n",
        "import pandas as pd\n",
        "from sklearn.neighbors import KNeighborsRegressor\n",
        "from sklearn.model_selection import train_test_split\n",
        "import warnings\n",
        "warnings.filterwarnings('ignore')\n",
        "from sklearn.model_selection import cross_val_score,KFold\n",
        "from sklearn.metrics import accuracy_score\n",
        "from sklearn.metrics import mean_absolute_error\n",
        "from sklearn.metrics import mean_squared_log_error\n",
        "import matplotlib.pyplot as plt\n",
        "from sklearn.preprocessing import StandardScaler\n",
        "from math import sqrt\n",
        "from sklearn.metrics import median_absolute_error\n",
        "from sklearn.metrics import mean_squared_error\n",
        "\n",
        "#os.chdir(r\"C:\\Users\\dcbharma\\Desktop\\airbnbridge\")\n",
        "df = pd.read_csv(\"listings_detail.csv\",low_memory=False,encoding = \"ISO-8859-1\")\n",
        "\n",
        "\n",
        "df = df[df['accommodates'] != 0]\n",
        "df = df[df['bedrooms'] != 0]\n",
        "df = df[df['beds'] != 0]\n",
        "df = df[df['price'] != 0.00]\n",
        "\n",
        "print((df['beds']))\n",
        "\n"
      ],
      "execution_count": 0,
      "outputs": [
        {
          "output_type": "stream",
          "text": [
            "1        1.0\n",
            "2        1.0\n",
            "3        3.0\n",
            "4        3.0\n",
            "5        1.0\n",
            "6        5.0\n",
            "7        1.0\n",
            "8        2.0\n",
            "9        1.0\n",
            "11       2.0\n",
            "12       3.0\n",
            "13       2.0\n",
            "14       1.0\n",
            "15       1.0\n",
            "16       2.0\n",
            "17       1.0\n",
            "18       1.0\n",
            "19       1.0\n",
            "20       1.0\n",
            "21       2.0\n",
            "22       1.0\n",
            "23       1.0\n",
            "24       1.0\n",
            "25       1.0\n",
            "26       3.0\n",
            "27       2.0\n",
            "28       4.0\n",
            "29       2.0\n",
            "30       2.0\n",
            "31       1.0\n",
            "        ... \n",
            "44284    1.0\n",
            "44285    1.0\n",
            "44286    1.0\n",
            "44287    2.0\n",
            "44288    1.0\n",
            "44289    1.0\n",
            "44290    1.0\n",
            "44291    1.0\n",
            "44292    1.0\n",
            "44293    2.0\n",
            "44295    1.0\n",
            "44296    2.0\n",
            "44297    2.0\n",
            "44298    3.0\n",
            "44299    4.0\n",
            "44300    4.0\n",
            "44301    5.0\n",
            "44302    2.0\n",
            "44303    1.0\n",
            "44304    6.0\n",
            "44305    1.0\n",
            "44306    1.0\n",
            "44307    1.0\n",
            "44308    1.0\n",
            "44309    1.0\n",
            "44310    1.0\n",
            "44311    1.0\n",
            "44312    1.0\n",
            "44313    5.0\n",
            "44314    1.0\n",
            "Name: beds, Length: 40279, dtype: float64\n"
          ],
          "name": "stdout"
        }
      ]
    },
    {
      "metadata": {
        "id": "gWjbUR1SgXh7",
        "colab_type": "code",
        "colab": {},
        "outputId": "adc7a238-4752-40c4-d428-8f7f3b1bd6a6"
      },
      "cell_type": "code",
      "source": [
        "\n",
        "df = df[(pd.notnull(df['latitude']))&(pd.notnull(df['longitude']))&(pd.notnull(df['accommodates']))&(pd.notnull(df['bathrooms']))&(pd.notnull(df['beds']))&(pd.notnull(df['number_of_reviews']))&(pd.notnull(df['review_scores_rating']))&(pd.notnull(df['price']))]\n",
        "df['price'] = df['price'].str.replace('\\$|,', '')\n",
        "df['price'] = pd.to_numeric(df['price'])\n",
        "\n",
        "\n",
        "df_knn =df[['latitude', 'longitude', 'accommodates','bathrooms','bedrooms','beds','number_of_reviews','review_scores_rating','price']]\n",
        "df_knn.apply(pd.to_numeric)\n",
        "\n",
        "from sklearn.utils import shuffle\n",
        "df_knn = shuffle(df_knn)\n",
        "\n",
        "df_norm = (df_knn[['latitude', 'longitude', 'accommodates','bathrooms','bedrooms','beds','number_of_reviews','review_scores_rating']] - df_knn[['latitude', 'longitude', 'accommodates','bathrooms','bedrooms','beds','number_of_reviews','review_scores_rating']].min()) / (df_knn[['latitude', 'longitude', 'accommodates','bathrooms','bedrooms','beds','number_of_reviews','review_scores_rating']].max() - df_knn[['latitude', 'longitude', 'accommodates','bathrooms','bedrooms','beds','number_of_reviews','review_scores_rating']].min())\n",
        "df_norm = pd.concat([df_norm, df_knn[['price']]],  axis=1)\n",
        "\n",
        "df_norm = df_norm[(pd.notnull(df['latitude']))&(pd.notnull(df['longitude']))&(pd.notnull(df['accommodates']))&(pd.notnull(df['bathrooms']))&(pd.notnull(df['beds']))&(pd.notnull(df['number_of_reviews']))&(pd.notnull(df['review_scores_rating']))&(pd.notnull(df['price']))]\n",
        "df_norm = df_norm.round(6)\n",
        "df_norm = df_norm.dropna()\n",
        "df_norm.apply(pd.to_numeric)\n",
        "\n",
        "df_norm = df_norm[df_norm['beds'] == min(df_norm['beds'])]\n",
        "x_train, x_test, y_train, y_test = train_test_split(df_norm[['latitude', 'longitude', 'accommodates','bathrooms','bedrooms','beds','number_of_reviews','review_scores_rating']],df_norm['price'], test_size=0.2, random_state = 42)\n",
        "print(len(x_train))\n",
        "print(len(x_test))\n",
        "\n",
        "print(len(y_train))\n",
        "print(len(y_test))\n",
        "\n",
        "# x_train = x_train[(pd.notnull(df['latitude']))&(pd.notnull(df['longitude']))&(pd.notnull(df['accommodates']))&(pd.notnull(df['bathrooms']))&(pd.notnull(df['beds']))&(pd.notnull(df['number_of_reviews']))&(pd.notnull(df['review_scores_rating']))]\n",
        "# x_train = x_train.dropna()\n",
        "# x_train = x_train.round(6)\n",
        "# x_train.apply(pd.to_numeric)\n",
        "\n",
        "# x_test = x_test[(pd.notnull(df['latitude']))&(pd.notnull(df['longitude']))&(pd.notnull(df['accommodates']))&(pd.notnull(df['bathrooms']))&(pd.notnull(df['beds']))&(pd.notnull(df['number_of_reviews']))&(pd.notnull(df['review_scores_rating']))]\n",
        "# x_test = x_test.dropna()\n",
        "# x_test = x_test.round(6)\n",
        "# x_test.apply(pd.to_numeric)\n",
        "\n",
        "# y_train.index.name = 'price'\n",
        "# y_test.index.name = 'price'\n",
        "\n",
        "# y_train = y_train[(pd.notnull(df['price']))]\n",
        "# y_train = y_train.dropna()\n",
        "# y_train = y_train.round(6)\n",
        "# y_train.apply(pd.to_numeric)\n",
        "\n",
        "# y_test = y_test[(pd.notnull(df['price']))]\n",
        "# y_test = y_test.dropna()\n",
        "# y_test = y_test.round(6)\n",
        "# y_test.apply(pd.to_numeric)\n",
        "\n"
      ],
      "execution_count": 0,
      "outputs": [
        {
          "output_type": "stream",
          "text": [
            "15816\n",
            "3954\n",
            "15816\n",
            "3954\n"
          ],
          "name": "stdout"
        }
      ]
    },
    {
      "metadata": {
        "id": "sy0_OSyjgXh-",
        "colab_type": "code",
        "colab": {}
      },
      "cell_type": "code",
      "source": [
        "\n",
        "knn = KNeighborsRegressor(n_neighbors=7)\n",
        "knn.fit(x_train, y_train)\n",
        "predictions = knn.predict(x_test)\n",
        "predictions = pd.DataFrame({'price': predictions})"
      ],
      "execution_count": 0,
      "outputs": []
    },
    {
      "metadata": {
        "id": "DHOP7Jm5gXiB",
        "colab_type": "code",
        "colab": {},
        "outputId": "a75e3626-10c8-40f2-99ea-0514236d1ec1"
      },
      "cell_type": "code",
      "source": [
        "\n",
        "print('mean_absolute_error:\\t$%.2f' % mean_absolute_error(y_test, predictions))\n",
        "print('mean_squared_log_error:\\t%.5f' % mean_squared_log_error(y_test, predictions))\n",
        "print(\"Median Absolute Error: \" + str(round(median_absolute_error(predictions, y_test), 2)))\n",
        "RMSE = round(sqrt(mean_squared_error(predictions, y_test)), 2)\n",
        "print(\"Root mean_squared_error: \" + str(RMSE))"
      ],
      "execution_count": 0,
      "outputs": [
        {
          "output_type": "stream",
          "text": [
            "mean_absolute_error:\t$38.19\n",
            "mean_squared_log_error:\t0.21357\n",
            "Median Absolute Error: 22.0\n",
            "Root mean_squared_error: 104.05\n"
          ],
          "name": "stdout"
        }
      ]
    },
    {
      "metadata": {
        "id": "Jx7KW89YgXiG",
        "colab_type": "code",
        "colab": {}
      },
      "cell_type": "code",
      "source": [
        ""
      ],
      "execution_count": 0,
      "outputs": []
    },
    {
      "metadata": {
        "id": "NgJ5cz1jgXiJ",
        "colab_type": "code",
        "colab": {}
      },
      "cell_type": "code",
      "source": [
        ""
      ],
      "execution_count": 0,
      "outputs": []
    }
  ]
}